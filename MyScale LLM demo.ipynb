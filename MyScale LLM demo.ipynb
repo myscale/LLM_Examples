{
 "cells": [
  {
   "cell_type": "markdown",
   "id": "b01d573c",
   "metadata": {},
   "source": [
    "# Introduction\n",
    "In this notebook, you will learn how Myscale can assist you in creating a question-answering application with openai api. There are three primary components required to construct a question-answering system:\n",
    "1. A vector index for semantic search storage and execution.\n",
    "2. A retriever model to embed contextual passages.\n",
    "3. OpenAI API for answer extraction.\n",
    "\n",
    "We will use bitcoin_articles dataset. The dataset contains a collection of news articles on Bitcoin that have been obtained through web scraping from different sources on the Internet using the Newscatcher API. We'll use the retriever to create embeddings for the context passages, index them in the vector database, and execute a semantic search to retrieve the top k most relevant contexts with potential answers to our question. OpenAI API will then be used to generate answers based on the returned contexts."
   ]
  },
  {
   "cell_type": "markdown",
   "id": "2ead9109",
   "metadata": {},
   "source": [
    "### Zero-shot GPT-3.5\n",
    "As comparision, we first implement zero-shot QA with GPT-3.5, We can see that this answer is relatively simple."
   ]
  },
  {
   "cell_type": "code",
   "execution_count": 20,
   "id": "12fe0b74",
   "metadata": {},
   "outputs": [
    {
     "name": "stdout",
     "output_type": "stream",
     "text": [
      "Example: Zero-Shot\n",
      "Q:  what is the difference between bitcoin and traditional money?\n",
      "A:  Bitcoin is decentralized and operates on a blockchain, while traditional money is centralized and controlled by governments and financial institutions.\n"
     ]
    }
   ],
   "source": [
    "import sys\n",
    "import os\n",
    "import openai\n",
    "sys.argv=['']\n",
    "openai.api_key  = ''\n",
    "question = \"what is the difference between bitcoin and traditional money?\"\n",
    "print(\"Example: Zero-Shot\")\n",
    "print('Q: ',question)\n",
    "response = openai.Completion.create(\n",
    "          engine='gpt-3.5-turbo',\n",
    "          prompt=question,\n",
    "          max_tokens=4000,\n",
    "          temperature=0,\n",
    "          top_p=1,\n",
    "          frequency_penalty=0,\n",
    "          presence_penalty=0,\n",
    "          stop=[\"\\n\"]\n",
    "        )\n",
    "print('A: ',response[\"choices\"][0][\"text\"])"
   ]
  },
  {
   "cell_type": "markdown",
   "id": "66be89e6",
   "metadata": {},
   "source": [
    "### Load data and Prepocess\n",
    "We first establish a small database for retrieval, after loading data we perform basic data manipulation tasks such as eliminating duplicate entries and removing empty cells. "
   ]
  },
  {
   "cell_type": "code",
   "execution_count": 21,
   "id": "2c471bfd",
   "metadata": {},
   "outputs": [
    {
     "data": {
      "text/html": [
       "<div>\n",
       "<style scoped>\n",
       "    .dataframe tbody tr th:only-of-type {\n",
       "        vertical-align: middle;\n",
       "    }\n",
       "\n",
       "    .dataframe tbody tr th {\n",
       "        vertical-align: top;\n",
       "    }\n",
       "\n",
       "    .dataframe thead th {\n",
       "        text-align: right;\n",
       "    }\n",
       "</style>\n",
       "<table border=\"1\" class=\"dataframe\">\n",
       "  <thead>\n",
       "    <tr style=\"text-align: right;\">\n",
       "      <th></th>\n",
       "      <th>article_id</th>\n",
       "      <th>title</th>\n",
       "      <th>author</th>\n",
       "      <th>published_date</th>\n",
       "      <th>link</th>\n",
       "      <th>clean_url</th>\n",
       "      <th>excerpt</th>\n",
       "      <th>summary</th>\n",
       "      <th>rights</th>\n",
       "      <th>article_rank</th>\n",
       "      <th>topic</th>\n",
       "      <th>country</th>\n",
       "      <th>language</th>\n",
       "      <th>authors</th>\n",
       "      <th>media</th>\n",
       "      <th>twitter_account</th>\n",
       "      <th>article_score</th>\n",
       "    </tr>\n",
       "  </thead>\n",
       "  <tbody>\n",
       "    <tr>\n",
       "      <th>0</th>\n",
       "      <td>57a00c1140cbd3af79e77bf0e4e6af48</td>\n",
       "      <td>62% of Bitcoin Has Not Moved in a Year as Long...</td>\n",
       "      <td>Jamie McNeill</td>\n",
       "      <td>04-10-2022 17:15</td>\n",
       "      <td>https://www.business2community.com/crypto-news...</td>\n",
       "      <td>business2community.com</td>\n",
       "      <td>Over the course of the last few years, there h...</td>\n",
       "      <td>Over the course of the last few years, there h...</td>\n",
       "      <td>business2community.com</td>\n",
       "      <td>1595</td>\n",
       "      <td>finance</td>\n",
       "      <td>US</td>\n",
       "      <td>en</td>\n",
       "      <td>Jamie McNeill</td>\n",
       "      <td>https://www.business2community.com/wp-content/...</td>\n",
       "      <td>@Jamie_DeFi</td>\n",
       "      <td>8.556426</td>\n",
       "    </tr>\n",
       "    <tr>\n",
       "      <th>1</th>\n",
       "      <td>21b48b3731c03466be3fac4be6c7dc67</td>\n",
       "      <td>The Orange Party Issue Playlist</td>\n",
       "      <td>Bitcoin Magazine</td>\n",
       "      <td>05-10-2022 21:17</td>\n",
       "      <td>https://bitcoinmagazine.com/culture/orange-par...</td>\n",
       "      <td>bitcoinmagazine.com</td>\n",
       "      <td>News Links: Russia Legalizing Bitcoin And Cryp...</td>\n",
       "      <td>Russia Legalizing Bitcoin And Crypto Is A Matt...</td>\n",
       "      <td>bitcoinmagazine.com</td>\n",
       "      <td>6284</td>\n",
       "      <td>news</td>\n",
       "      <td>US</td>\n",
       "      <td>en</td>\n",
       "      <td>Bitcoin Magazine</td>\n",
       "      <td>https://bitcoinmagazine.com/.image/t_share/MTk...</td>\n",
       "      <td>NaN</td>\n",
       "      <td>8.507881</td>\n",
       "    </tr>\n",
       "    <tr>\n",
       "      <th>2</th>\n",
       "      <td>77030740ee160ad68c25e4e63515dd77</td>\n",
       "      <td>How Many Bitcoins Are There?</td>\n",
       "      <td>AOL Staff</td>\n",
       "      <td>04-10-2022 21:44</td>\n",
       "      <td>https://www.gobankingrates.com/investing/crypt...</td>\n",
       "      <td>gobankingrates.com</td>\n",
       "      <td>Bitcoin has a maximum supply of 21 million. Ho...</td>\n",
       "      <td>Bitcoin has a maximum supply of 21 million. Ho...</td>\n",
       "      <td>aol.com</td>\n",
       "      <td>5044</td>\n",
       "      <td>news</td>\n",
       "      <td>US</td>\n",
       "      <td>en</td>\n",
       "      <td>AOL Staff,David Granahan</td>\n",
       "      <td>https://s.yimg.com/ny/api/res/1.2/wPK4V8gjwjrD...</td>\n",
       "      <td>@AOL</td>\n",
       "      <td>8.483973</td>\n",
       "    </tr>\n",
       "  </tbody>\n",
       "</table>\n",
       "</div>"
      ],
      "text/plain": [
       "                         article_id  \\\n",
       "0  57a00c1140cbd3af79e77bf0e4e6af48   \n",
       "1  21b48b3731c03466be3fac4be6c7dc67   \n",
       "2  77030740ee160ad68c25e4e63515dd77   \n",
       "\n",
       "                                               title            author  \\\n",
       "0  62% of Bitcoin Has Not Moved in a Year as Long...     Jamie McNeill   \n",
       "1                    The Orange Party Issue Playlist  Bitcoin Magazine   \n",
       "2                       How Many Bitcoins Are There?         AOL Staff   \n",
       "\n",
       "     published_date                                               link  \\\n",
       "0  04-10-2022 17:15  https://www.business2community.com/crypto-news...   \n",
       "1  05-10-2022 21:17  https://bitcoinmagazine.com/culture/orange-par...   \n",
       "2  04-10-2022 21:44  https://www.gobankingrates.com/investing/crypt...   \n",
       "\n",
       "                clean_url                                            excerpt  \\\n",
       "0  business2community.com  Over the course of the last few years, there h...   \n",
       "1     bitcoinmagazine.com  News Links: Russia Legalizing Bitcoin And Cryp...   \n",
       "2      gobankingrates.com  Bitcoin has a maximum supply of 21 million. Ho...   \n",
       "\n",
       "                                             summary                  rights  \\\n",
       "0  Over the course of the last few years, there h...  business2community.com   \n",
       "1  Russia Legalizing Bitcoin And Crypto Is A Matt...     bitcoinmagazine.com   \n",
       "2  Bitcoin has a maximum supply of 21 million. Ho...                 aol.com   \n",
       "\n",
       "   article_rank    topic country language                   authors  \\\n",
       "0          1595  finance      US       en             Jamie McNeill   \n",
       "1          6284     news      US       en          Bitcoin Magazine   \n",
       "2          5044     news      US       en  AOL Staff,David Granahan   \n",
       "\n",
       "                                               media twitter_account  \\\n",
       "0  https://www.business2community.com/wp-content/...     @Jamie_DeFi   \n",
       "1  https://bitcoinmagazine.com/.image/t_share/MTk...             NaN   \n",
       "2  https://s.yimg.com/ny/api/res/1.2/wPK4V8gjwjrD...            @AOL   \n",
       "\n",
       "   article_score  \n",
       "0       8.556426  \n",
       "1       8.507881  \n",
       "2       8.483973  "
      ]
     },
     "execution_count": 21,
     "metadata": {},
     "output_type": "execute_result"
    }
   ],
   "source": [
    "import pandas as pd\n",
    "\n",
    "data_raw = pd.read_csv('/root/xuying_experiments/bitcoin_articles.csv')\n",
    "data_raw.head(3)"
   ]
  },
  {
   "cell_type": "code",
   "execution_count": 22,
   "id": "5f29c5ea",
   "metadata": {},
   "outputs": [
    {
     "name": "stdout",
     "output_type": "stream",
     "text": [
      "<class 'pandas.core.frame.DataFrame'>\n",
      "RangeIndex: 2500 entries, 0 to 2499\n",
      "Data columns (total 17 columns):\n",
      " #   Column           Non-Null Count  Dtype  \n",
      "---  ------           --------------  -----  \n",
      " 0   article_id       2500 non-null   object \n",
      " 1   title            2500 non-null   object \n",
      " 2   author           2264 non-null   object \n",
      " 3   published_date   2500 non-null   object \n",
      " 4   link             2500 non-null   object \n",
      " 5   clean_url        2500 non-null   object \n",
      " 6   excerpt          2468 non-null   object \n",
      " 7   summary          2473 non-null   object \n",
      " 8   rights           2468 non-null   object \n",
      " 9   article_rank     2500 non-null   int64  \n",
      " 10  topic            2500 non-null   object \n",
      " 11  country          2500 non-null   object \n",
      " 12  language         2500 non-null   object \n",
      " 13  authors          2264 non-null   object \n",
      " 14  media            2461 non-null   object \n",
      " 15  twitter_account  1968 non-null   object \n",
      " 16  article_score    2500 non-null   float64\n",
      "dtypes: float64(1), int64(1), object(15)\n",
      "memory usage: 332.2+ KB\n"
     ]
    }
   ],
   "source": [
    "data_raw.info()"
   ]
  },
  {
   "cell_type": "code",
   "execution_count": 23,
   "id": "5ad60ebd",
   "metadata": {},
   "outputs": [],
   "source": [
    "data_raw.drop_duplicates(subset=['summary'], keep='first', inplace=True)\n",
    "data_raw.dropna(subset=['summary'],inplace=True)"
   ]
  },
  {
   "cell_type": "code",
   "execution_count": 24,
   "id": "c459ce4e",
   "metadata": {},
   "outputs": [
    {
     "name": "stdout",
     "output_type": "stream",
     "text": [
      "<class 'pandas.core.frame.DataFrame'>\n",
      "Int64Index: 1931 entries, 0 to 2499\n",
      "Data columns (total 17 columns):\n",
      " #   Column           Non-Null Count  Dtype  \n",
      "---  ------           --------------  -----  \n",
      " 0   article_id       1931 non-null   object \n",
      " 1   title            1931 non-null   object \n",
      " 2   author           1731 non-null   object \n",
      " 3   published_date   1931 non-null   object \n",
      " 4   link             1931 non-null   object \n",
      " 5   clean_url        1931 non-null   object \n",
      " 6   excerpt          1906 non-null   object \n",
      " 7   summary          1931 non-null   object \n",
      " 8   rights           1906 non-null   object \n",
      " 9   article_rank     1931 non-null   int64  \n",
      " 10  topic            1931 non-null   object \n",
      " 11  country          1931 non-null   object \n",
      " 12  language         1931 non-null   object \n",
      " 13  authors          1731 non-null   object \n",
      " 14  media            1900 non-null   object \n",
      " 15  twitter_account  1450 non-null   object \n",
      " 16  article_score    1931 non-null   float64\n",
      "dtypes: float64(1), int64(1), object(15)\n",
      "memory usage: 271.5+ KB\n"
     ]
    }
   ],
   "source": [
    "data_raw.info()"
   ]
  },
  {
   "cell_type": "markdown",
   "id": "fc9b6ee9",
   "metadata": {},
   "source": [
    "### Load model to embed data\n",
    "we will have to initiate our retriever, which will primarily perform two tasks:\n",
    "\n",
    "1. Produce embeddings for each context passage (context vectors/embeddings)\n",
    "2. Produce an embedding for our queries (query vector/embedding)"
   ]
  },
  {
   "cell_type": "code",
   "execution_count": 25,
   "id": "57fab442",
   "metadata": {},
   "outputs": [
    {
     "data": {
      "text/plain": [
       "SentenceTransformer(\n",
       "  (0): Transformer({'max_seq_length': 512, 'do_lower_case': False}) with Transformer model: BertModel \n",
       "  (1): Pooling({'word_embedding_dimension': 384, 'pooling_mode_cls_token': False, 'pooling_mode_mean_tokens': True, 'pooling_mode_max_tokens': False, 'pooling_mode_mean_sqrt_len_tokens': False})\n",
       "  (2): Normalize()\n",
       ")"
      ]
     },
     "execution_count": 25,
     "metadata": {},
     "output_type": "execute_result"
    }
   ],
   "source": [
    "import torch\n",
    "from sentence_transformers import SentenceTransformer\n",
    "\n",
    "# set device to GPU if available\n",
    "device = 'cuda' if torch.cuda.is_available() else 'cpu'\n",
    "# load the retriever model from huggingface model hub\n",
    "retriever = SentenceTransformer('multi-qa-MiniLM-L6-cos-v1', device=device)\n",
    "retriever"
   ]
  },
  {
   "cell_type": "code",
   "execution_count": 26,
   "id": "2ef7dad4",
   "metadata": {},
   "outputs": [
    {
     "data": {
      "application/vnd.jupyter.widget-view+json": {
       "model_id": "a66dfbdf09d94e8cb9f4434394595433",
       "version_major": 2,
       "version_minor": 0
      },
      "text/plain": [
       "  0%|          | 0/1931 [00:00<?, ?it/s]"
      ]
     },
     "metadata": {},
     "output_type": "display_data"
    }
   ],
   "source": [
    "from tqdm.auto import tqdm\n",
    "\n",
    "# we will use batches of 1\n",
    "batch_size = 1\n",
    "res = data_raw['summary'].values.tolist()\n",
    "res_feature = []\n",
    "\n",
    "for i in tqdm(range(0, len(res), batch_size)):\n",
    "    # find end of batch\n",
    "    i_end = min(i+batch_size, len(res))\n",
    "    \n",
    "    # extract batch\n",
    "    batch = res[i:i_end]\n",
    "    # generate embeddings for batch\n",
    "    emb = retriever.encode(batch).tolist()[0]\n",
    "    # get metadata\n",
    "    # meta = batch.to_dict(orient=\"records\")\n",
    "    # create unique IDs\n",
    "    ids = [f\"{idx}\" for idx in range(i, i_end)]\n",
    "    # add all to upsert list\n",
    "    res_feature.append(emb)"
   ]
  },
  {
   "cell_type": "code",
   "execution_count": 27,
   "id": "7211873c",
   "metadata": {},
   "outputs": [],
   "source": [
    "from pandas.core.frame import DataFrame\n",
    "data_raw['summary_feature'] = res_feature"
   ]
  },
  {
   "cell_type": "code",
   "execution_count": 28,
   "id": "88675611",
   "metadata": {},
   "outputs": [],
   "source": [
    "data = data_raw[['article_id','title','author','link','summary','article_rank','summary_feature']]\n",
    "data.to_csv('bitcon.csv')"
   ]
  },
  {
   "cell_type": "markdown",
   "id": "b1491f20",
   "metadata": {},
   "source": [
    "### Create table in MyScale"
   ]
  },
  {
   "cell_type": "code",
   "execution_count": 12,
   "id": "74f75bba",
   "metadata": {},
   "outputs": [],
   "source": [
    "import clickhouse_connect as client\n",
    "\n",
    "# initialize MyScale client\n",
    "client.get_client(host='YOUR_CLUSTER_HOST', port=8443, username='YOUR_USERNAME', password='YOUR_CLUSTER_PASSWORD')\n",
    "\n"
   ]
  },
  {
   "cell_type": "code",
   "execution_count": 32,
   "id": "b3fb7664",
   "metadata": {},
   "outputs": [],
   "source": [
    "# create table for IMF texts\n",
    "client.command(\"\"\"\n",
    "CREATE TABLE default.LLM_bitcoin_demo_qa_1\n",
    "(\n",
    "    id UInt64,\n",
    "    article_id String,\n",
    "    title String,\n",
    "    author String,\n",
    "    link String,\n",
    "    summary String,\n",
    "    article_rank UInt64,\n",
    "    summary_feature Array(Float32),\n",
    "    CONSTRAINT vector_len CHECK length(summary_feature) = 384\n",
    ")\n",
    "ENGINE = MergeTree ORDER BY id\n",
    "\"\"\")"
   ]
  },
  {
   "cell_type": "markdown",
   "id": "c14f4844",
   "metadata": {},
   "source": [
    "### Uploading data"
   ]
  },
  {
   "cell_type": "code",
   "execution_count": 37,
   "id": "0e088038",
   "metadata": {},
   "outputs": [
    {
     "data": {
      "application/vnd.jupyter.widget-view+json": {
       "model_id": "4b0dd202a0d949e8acef1fa34c327122",
       "version_major": 2,
       "version_minor": 0
      },
      "text/plain": [
       "  0%|          | 0/20 [00:00<?, ?it/s]"
      ]
     },
     "metadata": {},
     "output_type": "display_data"
    },
    {
     "name": "stdout",
     "output_type": "stream",
     "text": [
      "index build status: 2783\n"
     ]
    }
   ],
   "source": [
    "batch_size = 100\n",
    "for i in tqdm(range(0, len(res), batch_size)):\n",
    "    # find end of batch\n",
    "    i_end = min(i+batch_size, len(res))\n",
    "    client.insert(\"default.LLM_bitcoin_demo_qa_1 \", data[i:i_end+1].to_records(index=True).tolist(), column_names=data.columns.tolist())\n",
    "    # get metadata\n",
    "    # meta = batch.to_dict(orient=\"records\")\n",
    "get_index_status=\"SELECT count(*) FROM default.LLM_bitcoin_demo_qa_1\"\n",
    "print(f\"index build status: {client.query(query=get_index_status)}\")"
   ]
  },
  {
   "cell_type": "markdown",
   "id": "71050ee3",
   "metadata": {},
   "source": [
    "### Finding top k most relevant contexts "
   ]
  },
  {
   "cell_type": "code",
   "execution_count": 29,
   "id": "b4a63ca4",
   "metadata": {},
   "outputs": [],
   "source": [
    "question = 'what is the difference between bitcoin and traditional money?'\n",
    "emb_query = retriever.encode(question).tolist()"
   ]
  },
  {
   "cell_type": "markdown",
   "id": "f79cfd96",
   "metadata": {},
   "source": [
    "### Filter the result with article_rank < 500"
   ]
  },
  {
   "cell_type": "code",
   "execution_count": 30,
   "id": "bf1ed6bf",
   "metadata": {},
   "outputs": [],
   "source": [
    "top_k = 10\n",
    "results = client.query(f\"\"\"\n",
    "SELECT summary, distance('topK={top_k}')(summary_feature, {emb_query}) as dist\n",
    "FROM default.LLM_bitcoin_demo_qa_1\n",
    "WHERE article_rank < 500\n",
    "\"\"\")"
   ]
  },
  {
   "cell_type": "code",
   "execution_count": 31,
   "id": "8d536056",
   "metadata": {},
   "outputs": [],
   "source": [
    "res = []\n",
    "for r in results:\n",
    "    res.append(r[0])"
   ]
  },
  {
   "cell_type": "markdown",
   "id": "90ad2676",
   "metadata": {},
   "source": [
    "### Get CoT for GPT-3.5"
   ]
  },
  {
   "cell_type": "code",
   "execution_count": 32,
   "id": "00a4bcbc",
   "metadata": {},
   "outputs": [],
   "source": [
    "CoT = ''\n",
    "for i in res:\n",
    "    CoT += i\n",
    "CoT += '\\n' +'Based on the context above '+'\\n' +' Q: '+ question + '\\n' +' A: The answer is'"
   ]
  },
  {
   "cell_type": "code",
   "execution_count": 33,
   "id": "e3d704c0",
   "metadata": {},
   "outputs": [
    {
     "name": "stdout",
     "output_type": "stream",
     "text": [
      "Bitcoin is the currency of the Internet: a distributed, worldwide, decentralized digital money. Unlike traditional currencies such as dollars, bitcoins are issued and managed without any central authority whatsoever: there is no government, company, or bank in charge of Bitcoin. As such, it is more resistant to wild inflation and corrupt banks. With Bitcoin, you can be your own bank.Bitcoin is the currency of the Internet: a distributed, worldwide, decentralized digital money. Unlike traditional currencies such as dollars, bitcoins are issued and managed without any central authority whatsoever: there is no government, company, or bank in charge of Bitcoin. As such, it is more resistant to wild inflation and corrupt banks. With Bitcoin, you can be your own bank.Bitcoin is the currency of the Internet: a distributed, worldwide, decentralized digital money. Unlike traditional currencies such as dollars, bitcoins are issued and managed without any central authority whatsoever: there is no government, company, or bank in charge of Bitcoin. As such, it is more resistant to wild inflation and corrupt banks. With Bitcoin, you can be your own bank.\n",
      "Based on the context above \n",
      " Q: what is the difference between bitcoin and traditional money?\n",
      " A: The answer is\n"
     ]
    }
   ],
   "source": [
    "print(CoT)"
   ]
  },
  {
   "cell_type": "markdown",
   "id": "173e6201",
   "metadata": {},
   "source": [
    "### Get result from GPT-3.5"
   ]
  },
  {
   "cell_type": "code",
   "execution_count": 35,
   "id": "99069191",
   "metadata": {},
   "outputs": [
    {
     "name": "stdout",
     "output_type": "stream",
     "text": [
      " \n"
     ]
    }
   ],
   "source": [
    "response = openai.Completion.create(\n",
    "          engine='gpt-3.5-turbo',\n",
    "          prompt=CoT,\n",
    "          max_tokens=4000,\n",
    "          temperature=0,\n",
    "          top_p=1,\n",
    "          frequency_penalty=0,\n",
    "          presence_penalty=0,\n",
    "          stop=[\"\\n\"]\n",
    "        )"
   ]
  },
  {
   "cell_type": "code",
   "execution_count": 36,
   "id": "023fbe7f",
   "metadata": {},
   "outputs": [
    {
     "name": "stdout",
     "output_type": "stream",
     "text": [
      "Example: Retrieval with MyScale\n",
      "Q:  what is the difference between bitcoin and traditional money?\n",
      "A:  Bitcoin is a decentralized digital currency that is not issued or managed by any central authority, whereas traditional currencies such as dollars are issued and managed by governments or central banks. Bitcoin is also more resistant to inflation and corruption in the banking system, and allows individuals to be their own bank.\n"
     ]
    }
   ],
   "source": [
    "print(\"Example: Retrieval with MyScale\")\n",
    "print('Q: ', question)\n",
    "\n",
    "print('A: ',response[\"choices\"][0][\"text\"])"
   ]
  },
  {
   "cell_type": "markdown",
   "id": "9c335125",
   "metadata": {},
   "source": [
    "We return a complete and detailed answer. We have recieved great results."
   ]
  },
  {
   "cell_type": "code",
   "execution_count": null,
   "id": "58592717",
   "metadata": {},
   "outputs": [],
   "source": []
  }
 ],
 "metadata": {
  "kernelspec": {
   "display_name": "Python 3 (ipykernel)",
   "language": "python",
   "name": "python3"
  },
  "language_info": {
   "codemirror_mode": {
    "name": "ipython",
    "version": 3
   },
   "file_extension": ".py",
   "mimetype": "text/x-python",
   "name": "python",
   "nbconvert_exporter": "python",
   "pygments_lexer": "ipython3",
   "version": "3.8.10"
  }
 },
 "nbformat": 4,
 "nbformat_minor": 5
}
